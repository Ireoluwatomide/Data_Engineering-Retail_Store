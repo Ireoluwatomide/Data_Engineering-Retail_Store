{
 "cells": [
  {
   "cell_type": "markdown",
   "metadata": {},
   "source": [
    "### Import the libraries"
   ]
  },
  {
   "cell_type": "code",
   "execution_count": null,
   "metadata": {},
   "outputs": [],
   "source": [
    "import numpy as np\n",
    "import pandas as pd\n",
    "import pandasql as ps # Allows to run SQL statements"
   ]
  },
  {
   "cell_type": "code",
   "execution_count": null,
   "metadata": {},
   "outputs": [],
   "source": [
    "# Function to run SQL statements\n",
    "def sql(query):\n",
    "    return ps.sqldf(query)"
   ]
  },
  {
   "cell_type": "markdown",
   "metadata": {},
   "source": [
    "### 1. Normalizing the Customers Table"
   ]
  },
  {
   "cell_type": "code",
   "execution_count": null,
   "metadata": {},
   "outputs": [],
   "source": [
    "# Read the customers table\n",
    "customers = pd.read_csv(\"./database/customers.csv\", index_col='Unnamed: 0')\n",
    "\n",
    "# customers.head()"
   ]
  },
  {
   "cell_type": "markdown",
   "metadata": {},
   "source": [
    "#### First Table - Countries"
   ]
  },
  {
   "cell_type": "code",
   "execution_count": null,
   "metadata": {},
   "outputs": [],
   "source": [
    "# Creating a new table called countries\n",
    "unique_countries = customers.country.unique()\n",
    "countries = pd.DataFrame(unique_countries, columns = ['Country'])\n",
    "countries['Country_Code'] = countries.Country.str[0:3]\n",
    "countries['Country_Code'] = countries.Country_Code.str.upper()\n",
    "countries['country_id'] = [*range(0,len(countries))]\n",
    "\n",
    "# countries.head()"
   ]
  },
  {
   "cell_type": "code",
   "execution_count": null,
   "metadata": {},
   "outputs": [],
   "source": [
    "# Extracting the country_id from customers\n",
    "query = '''\n",
    "select c2.country_id\n",
    "from customers c1\n",
    "join countries c2\n",
    "\n",
    "on c1.country_code = c2.country_code and\n",
    "c1.country = c2.country\n",
    "'''\n",
    "\n",
    "country_ids = sql(query)\n",
    "\n",
    "# Connecting countries to customers by adding the foreign key: country_id\n",
    "customers['country_id'] = country_ids"
   ]
  },
  {
   "cell_type": "code",
   "execution_count": null,
   "metadata": {},
   "outputs": [],
   "source": [
    "# Dropping the column country and country_code\n",
    "customers = customers.drop(['country','country_code'],axis=1)\n",
    "\n",
    "# customers.head()"
   ]
  },
  {
   "cell_type": "markdown",
   "metadata": {},
   "source": [
    "#### Second Table - Customer_cc"
   ]
  },
  {
   "cell_type": "code",
   "execution_count": null,
   "metadata": {},
   "outputs": [],
   "source": [
    "# Creating a new table called customer_cc\n",
    "unique_cc_providers = customers.credit_provider.unique()\n",
    "customer_cc = pd.DataFrame(unique_cc_providers, columns = ['credit_provider'])\n",
    "customer_cc['credit_provider_id'] = [*range(0,len(customer_cc))]\n",
    "\n",
    "#customer_cc.head()"
   ]
  },
  {
   "cell_type": "code",
   "execution_count": null,
   "metadata": {},
   "outputs": [],
   "source": [
    "# Extracting the credit_provider_id column from customers\n",
    "query = '''\n",
    "select c2.credit_provider_id\n",
    "from customers c1\n",
    "join customer_cc c2\n",
    "on \n",
    "    c1.credit_provider = c2.credit_provider\n",
    "'''\n",
    "\n",
    "credit_provider_id = sql(query)\n",
    "\n",
    "# Connecting customer_cc to customers by adding the foregin key: credit_provider_id \n",
    "customers['credit_provider_id'] = credit_provider_id"
   ]
  },
  {
   "cell_type": "code",
   "execution_count": null,
   "metadata": {},
   "outputs": [],
   "source": [
    "# Dropping the column credit_provider\n",
    "customers = customers.drop(['credit_provider'],axis=1)\n",
    "\n",
    "#customers.head()"
   ]
  },
  {
   "cell_type": "markdown",
   "metadata": {},
   "source": [
    "### 2. Normalizing the Employees Table"
   ]
  },
  {
   "cell_type": "code",
   "execution_count": null,
   "metadata": {},
   "outputs": [],
   "source": [
    "# Read the employees table\n",
    "employees = pd.read_csv(\"./database/employees.csv\", index_col='Unnamed: 0')\n",
    "\n",
    "# employees.head()"
   ]
  },
  {
   "cell_type": "markdown",
   "metadata": {},
   "source": [
    "#### First Table - Departments"
   ]
  },
  {
   "cell_type": "code",
   "execution_count": null,
   "metadata": {},
   "outputs": [],
   "source": [
    "# Extracting the departments from the employees table\n",
    "unique_departments = employees.department.unique()\n",
    "\n",
    "# Generating unique deepartment ids\n",
    "department_id = [*range(0, len(unique_departments))]\n",
    "\n",
    "# Creating a table called departments\n",
    "departments = pd.DataFrame(department_id, columns=['department_id'])\n",
    "departments['department'] = unique_departments\n",
    "\n",
    "# departments.head()"
   ]
  },
  {
   "cell_type": "code",
   "execution_count": null,
   "metadata": {},
   "outputs": [],
   "source": [
    "# Extracting the country_id column from customers\n",
    "query = '''\n",
    "select d.department_id\n",
    "from employees e\n",
    "join departments d\n",
    "on \n",
    "    e.department = d.department\n",
    "'''\n",
    "\n",
    "department_ids = sql(query)\n",
    "\n",
    "# Connecting countries to customers by adding the foregin key: country_id\n",
    "employees['department_id'] = department_ids"
   ]
  },
  {
   "cell_type": "code",
   "execution_count": null,
   "metadata": {},
   "outputs": [],
   "source": [
    "# Dropping the column department\n",
    "employees = employees.drop('department', axis = 1)\n",
    "\n",
    "# employees.head()"
   ]
  },
  {
   "cell_type": "markdown",
   "metadata": {},
   "source": [
    "### 3. Save the Normlized Tables as CSV"
   ]
  },
  {
   "cell_type": "code",
   "execution_count": null,
   "metadata": {},
   "outputs": [],
   "source": [
    "customers.to_csv('./database/customers_norm' + '.csv')\n",
    "employees.to_csv('./database/employees_norm' + '.csv')\n",
    "countries.to_csv('./database/countries' + '.csv')\n",
    "customer_cc.to_csv('./database/customer_cc' + '.csv')\n",
    "departments.to_csv('./database/departments' + '.csv')"
   ]
  }
 ],
 "metadata": {
  "interpreter": {
   "hash": "4c97a8af8ce9e38be4f005c9902d9a12d9f9cbf134d313a0472dadc3694cae66"
  },
  "kernelspec": {
   "display_name": "Python 3.9.7 ('base')",
   "language": "python",
   "name": "python3"
  },
  "language_info": {
   "codemirror_mode": {
    "name": "ipython",
    "version": 3
   },
   "file_extension": ".py",
   "mimetype": "text/x-python",
   "name": "python",
   "nbconvert_exporter": "python",
   "pygments_lexer": "ipython3",
   "version": "3.9.7"
  }
 },
 "nbformat": 4,
 "nbformat_minor": 2
}
