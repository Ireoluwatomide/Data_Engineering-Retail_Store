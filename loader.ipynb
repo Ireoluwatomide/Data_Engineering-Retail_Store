{
 "cells": [
  {
   "cell_type": "markdown",
   "metadata": {},
   "source": [
    "### 1. Connecting Python to MySQl"
   ]
  },
  {
   "cell_type": "code",
   "execution_count": null,
   "metadata": {},
   "outputs": [],
   "source": [
    "# Connecting Python to MySQL\n",
    "import pymysql\n",
    "import pandas as pd\n",
    "\n",
    "connection = pymysql.connect(host ='localhost',port=int(3306),user='root',passwd='rootroot')\n",
    "\n",
    "# Creating a cursor object\n",
    "cursor = connection.cursor()"
   ]
  },
  {
   "cell_type": "markdown",
   "metadata": {},
   "source": [
    "### 2. Creating a New Schema"
   ]
  },
  {
   "cell_type": "code",
   "execution_count": null,
   "metadata": {},
   "outputs": [],
   "source": [
    "# Create a new schema called whiskey_shop\n",
    "cursor.execute('''\n",
    "drop schema if exists whiskey_retail_shop;\n",
    "''')\n",
    "\n",
    "cursor.execute('''\n",
    "create schema whiskey_retail_shop;\n",
    "''')\n",
    "\n",
    "# Use the new schema\n",
    "cursor.execute('''\n",
    "use whiskey_retail_shop;\n",
    "''')"
   ]
  },
  {
   "cell_type": "markdown",
   "metadata": {},
   "source": [
    "### 3. Generating Empty Tables"
   ]
  },
  {
   "cell_type": "markdown",
   "metadata": {},
   "source": [
    "#### Countries"
   ]
  },
  {
   "cell_type": "code",
   "execution_count": null,
   "metadata": {},
   "outputs": [],
   "source": [
    "cursor.execute('''\n",
    "DROP TABLE IF EXISTS countries;\n",
    "''')\n",
    "\n",
    "cursor.execute('''\n",
    "CREATE TABLE countries (\n",
    "    country VARCHAR(100) NOT NULL,\n",
    "    country_code VARCHAR(100) NOT NULL,\n",
    "    country_id INT PRIMARY KEY\n",
    "    );\n",
    "''')"
   ]
  },
  {
   "cell_type": "markdown",
   "metadata": {},
   "source": [
    "#### Customer_cc"
   ]
  },
  {
   "cell_type": "code",
   "execution_count": null,
   "metadata": {},
   "outputs": [],
   "source": [
    "cursor.execute('''\n",
    "DROP TABLE IF EXISTS customer_cc;\n",
    "''')\n",
    "\n",
    "cursor.execute('''\n",
    "CREATE TABLE customer_cc (\n",
    "    credit_provider VARCHAR(100) NOT NULL,\n",
    "    credit_provider_id INT PRIMARY KEY\n",
    "    );\n",
    "''')"
   ]
  },
  {
   "cell_type": "markdown",
   "metadata": {},
   "source": [
    "#### Products"
   ]
  },
  {
   "cell_type": "code",
   "execution_count": null,
   "metadata": {},
   "outputs": [],
   "source": [
    "cursor.execute('''\n",
    "DROP TABLE IF EXISTS products;\n",
    "''')\n",
    "\n",
    "cursor.execute('''\n",
    "CREATE TABLE products (\n",
    "    product_id int NOT NULL PRIMARY KEY,\n",
    "    product_name VARCHAR(100) NOT NULL,\n",
    "    alcohol_percent VARCHAR(5) NOT NULL,\n",
    "    alcohol_amount FLOAT NOT NULL,\n",
    "    alcohol_price FLOAT NOT NULL\n",
    "    );\n",
    "''')"
   ]
  },
  {
   "cell_type": "markdown",
   "metadata": {},
   "source": [
    "#### Departments"
   ]
  },
  {
   "cell_type": "code",
   "execution_count": null,
   "metadata": {},
   "outputs": [],
   "source": [
    "cursor.execute('''\n",
    "DROP TABLE IF EXISTS departments;\n",
    "''')\n",
    "\n",
    "cursor.execute('''\n",
    "CREATE TABLE departments (\n",
    "    department_id INT PRIMARY KEY,\n",
    "    department VARCHAR(100) NOT NULL\n",
    "    );\n",
    "''')"
   ]
  },
  {
   "cell_type": "markdown",
   "metadata": {},
   "source": [
    "#### Customers"
   ]
  },
  {
   "cell_type": "code",
   "execution_count": null,
   "metadata": {},
   "outputs": [],
   "source": [
    "cursor.execute('''\n",
    "DROP TABLE IF EXISTS customers;\n",
    "''')\n",
    "\n",
    "cursor.execute('''\n",
    "CREATE TABLE customers (\n",
    "    customer_id INT PRIMARY KEY NOT NULL,\n",
    "    first_name VARCHAR(100) NOT NULL,\n",
    "    last_name VARCHAR(100) NOT NULL,\n",
    "    full_name VARCHAR(100) NOT NULL,\n",
    "    email VARCHAR(100) NOT NULL,\n",
    "    street VARCHAR(100) NOT NULL,\n",
    "    four_digits INT NOT NULL,\n",
    "    country_id INT NOT NULL,\n",
    "    credit_provider_id INT NOT NULL,\n",
    "    \n",
    "    FOREIGN KEY (country_id) REFERENCES countries (country_id),\n",
    "    FOREIGN KEY (credit_provider_id) REFERENCES customer_cc (credit_provider_id)\n",
    ");\n",
    "''')"
   ]
  },
  {
   "cell_type": "markdown",
   "metadata": {},
   "source": [
    "#### Employees"
   ]
  },
  {
   "cell_type": "code",
   "execution_count": null,
   "metadata": {},
   "outputs": [],
   "source": [
    "cursor.execute('''\n",
    "DROP TABLE IF EXISTS employees;\n",
    "''')\n",
    "\n",
    "cursor.execute('''\n",
    "CREATE TABLE employees (\n",
    "    employee_id INT PRIMARY KEY NOT NULL,\n",
    "    first_name VARCHAR(100) NOT NULL,\n",
    "    last_name VARCHAR(100) NOT NULL,\n",
    "    full_name VARCHAR(100) NOT NULL,\n",
    "    email VARCHAR(100) NOT NULL,\n",
    "    city VARCHAR(100) NOT NULL,\n",
    "    department_id INT NOT NULL,\n",
    "    \n",
    "    FOREIGN KEY (department_id) REFERENCES departments(department_id)\n",
    ");\n",
    "''')"
   ]
  },
  {
   "cell_type": "markdown",
   "metadata": {},
   "source": [
    "#### Payments"
   ]
  },
  {
   "cell_type": "code",
   "execution_count": null,
   "metadata": {},
   "outputs": [],
   "source": [
    "cursor.execute('''\n",
    "DROP TABLE IF EXISTS payments;\n",
    "''')\n",
    "\n",
    "cursor.execute('''\n",
    "CREATE TABLE payments (\n",
    "    payment_id INT NOT NULL PRIMARY KEY,\n",
    "    date DATE NOT NULL,\n",
    "    customer_id INT NOT NULL,\n",
    "    employee_id INT NOT NULL,\n",
    "    product_id INT NOT NULL,\n",
    "    price FLOAT NOT NULL\n",
    "    );\n",
    "''')"
   ]
  },
  {
   "cell_type": "markdown",
   "metadata": {},
   "source": [
    "### 4. Populating the Tables"
   ]
  },
  {
   "cell_type": "markdown",
   "metadata": {},
   "source": [
    "#### Countries"
   ]
  },
  {
   "cell_type": "code",
   "execution_count": null,
   "metadata": {},
   "outputs": [],
   "source": [
    "# Load the countries table\n",
    "countries = pd.read_csv(\"./database/countries.csv\", index_col='Unnamed: 0')\n",
    "\n",
    "# Convert the Dataframe into a list of arrays\n",
    "records = countries.to_records(index=False)\n",
    "\n",
    "# Convert the list of arrays into a tuple of tuples\n",
    "result = tuple(records)\n",
    "\n",
    "for data in range(0,len(result)):\n",
    "    \n",
    "    # Create a new record\n",
    "    query = \"insert into countries (country, country_code, country_id) values {}\".format(result[data])\n",
    "    \n",
    "    # Execute the query\n",
    "    cursor.execute(query)\n",
    "    \n",
    "    \n",
    "# Commit the transaction\n",
    "connection.commit()"
   ]
  },
  {
   "cell_type": "markdown",
   "metadata": {},
   "source": [
    "#### Customer_cc"
   ]
  },
  {
   "cell_type": "code",
   "execution_count": null,
   "metadata": {},
   "outputs": [],
   "source": [
    "# Load the countries table\n",
    "customer_cc = pd.read_csv(\"./database/customer_cc.csv\", index_col='Unnamed: 0')\n",
    "\n",
    "# Convert the Dataframe into a list of arrays\n",
    "records = customer_cc.to_records(index=False)\n",
    "\n",
    "# Convert the list of arrays into a tuple of tuples\n",
    "result = tuple(records)\n",
    "\n",
    "for data in range(0,len(result)):\n",
    "    \n",
    "    # Create a new record\n",
    "    query = \"insert into customer_cc (credit_provider, credit_provider_id) values {}\".format(result[data])\n",
    "    \n",
    "    # Execute the query\n",
    "    cursor.execute(query)\n",
    "    \n",
    "    \n",
    "# Commit the transaction\n",
    "connection.commit()"
   ]
  },
  {
   "cell_type": "markdown",
   "metadata": {},
   "source": [
    "#### Products"
   ]
  },
  {
   "cell_type": "code",
   "execution_count": null,
   "metadata": {},
   "outputs": [],
   "source": [
    "# Load the countries table\n",
    "products = pd.read_csv(\"./database/products.csv\", index_col='Unnamed: 0')\n",
    "\n",
    "# Convert the Dataframe into a list of arrays\n",
    "records = products.to_records(index=False)\n",
    "\n",
    "# Convert the list of arrays into a tuple of tuples\n",
    "result = tuple(records)\n",
    "\n",
    "for data in range(0,len(result)):\n",
    "    \n",
    "    # Create a new record\n",
    "    query = \"insert into products (product_id, product_name, alcohol_percent, alcohol_amount, alcohol_price) values {}\".format(result[data])\n",
    "    \n",
    "    # Execute the query\n",
    "    cursor.execute(query)\n",
    "    \n",
    "    \n",
    "# Commit the transaction\n",
    "connection.commit()"
   ]
  },
  {
   "cell_type": "markdown",
   "metadata": {},
   "source": [
    "#### Departments"
   ]
  },
  {
   "cell_type": "code",
   "execution_count": null,
   "metadata": {},
   "outputs": [],
   "source": [
    "# Load the countries table\n",
    "departments = pd.read_csv(\"./database/departments.csv\", index_col='Unnamed: 0')\n",
    "\n",
    "# Convert the Dataframe into a list of arrays\n",
    "records = departments.to_records(index=False)\n",
    "\n",
    "# Convert the list of arrays into a tuple of tuples\n",
    "result = tuple(records)\n",
    "\n",
    "for data in range(0,len(result)):\n",
    "    \n",
    "    # Create a new record\n",
    "    query = \"insert into departments (department_id, department) values {}\".format(result[data])\n",
    "    \n",
    "    # Execute the query\n",
    "    cursor.execute(query)\n",
    "    \n",
    "    \n",
    "# Commit the transaction\n",
    "connection.commit()"
   ]
  },
  {
   "cell_type": "markdown",
   "metadata": {},
   "source": [
    "#### Customers"
   ]
  },
  {
   "cell_type": "code",
   "execution_count": null,
   "metadata": {},
   "outputs": [],
   "source": [
    "# Load the countries table\n",
    "customers = pd.read_csv(\"./database/customers_norm.csv\", index_col='Unnamed: 0')\n",
    "\n",
    "# Convert the Dataframe into a list of arrays\n",
    "records = customers.to_records(index=False)\n",
    "\n",
    "# Convert the list of arrays into a tuple of tuples\n",
    "result = tuple(records)\n",
    "\n",
    "for data in range(0,len(result)):\n",
    "    \n",
    "    # Create a new record\n",
    "    query = \"insert into customers (customer_id, first_name, last_name, full_name, email, street, four_digits, country_id, credit_provider_id) values {}\".format(result[data])\n",
    "    \n",
    "    # Execute the query\n",
    "    cursor.execute(query)\n",
    "    \n",
    "    \n",
    "# Commit the transaction\n",
    "connection.commit()"
   ]
  },
  {
   "cell_type": "markdown",
   "metadata": {},
   "source": [
    "#### Employees"
   ]
  },
  {
   "cell_type": "code",
   "execution_count": null,
   "metadata": {},
   "outputs": [],
   "source": [
    "# Load the countries table\n",
    "employees = pd.read_csv(\"./database/employees_norm.csv\", index_col='Unnamed: 0')\n",
    "\n",
    "# Convert the Dataframe into a list of arrays\n",
    "records = employees.to_records(index=False)\n",
    "\n",
    "# Convert the list of arrays into a tuple of tuples\n",
    "result = tuple(records)\n",
    "\n",
    "for data in range(0,len(result)):\n",
    "    \n",
    "    # Create a new record\n",
    "    query = \"insert into employees (employee_id, first_name, last_name, full_name,email,city, department_id) values {}\".format(result[data])\n",
    "    \n",
    "    # Execute the query\n",
    "    cursor.execute(query)\n",
    "    \n",
    "    \n",
    "# Commit the transaction\n",
    "connection.commit()"
   ]
  },
  {
   "cell_type": "markdown",
   "metadata": {},
   "source": [
    "#### Payments"
   ]
  },
  {
   "cell_type": "code",
   "execution_count": null,
   "metadata": {},
   "outputs": [],
   "source": [
    "# Load the countries table\n",
    "payments = pd.read_csv(\"./database/payments.csv\", index_col='Unnamed: 0')\n",
    "\n",
    "# Convert the Dataframe into a list of arrays\n",
    "records = payments.to_records(index=False)\n",
    "\n",
    "# Convert the list of arrays into a tuple of tuples\n",
    "result = tuple(records)\n",
    "\n",
    "for data in range(0,len(result)):\n",
    "    \n",
    "    # Create a new record\n",
    "    query = \"insert into payments (payment_id, date,customer_id,employee_id,product_id,price) values {}\".format(result[data])\n",
    "    \n",
    "    # Execute the query\n",
    "    cursor.execute(query)\n",
    "    \n",
    "# Commit the transaction\n",
    "connection.commit()"
   ]
  }
 ],
 "metadata": {
  "interpreter": {
   "hash": "4c97a8af8ce9e38be4f005c9902d9a12d9f9cbf134d313a0472dadc3694cae66"
  },
  "kernelspec": {
   "display_name": "Python 3.9.7 ('base')",
   "language": "python",
   "name": "python3"
  },
  "language_info": {
   "codemirror_mode": {
    "name": "ipython",
    "version": 3
   },
   "file_extension": ".py",
   "mimetype": "text/x-python",
   "name": "python",
   "nbconvert_exporter": "python",
   "pygments_lexer": "ipython3",
   "version": "3.9.7"
  }
 },
 "nbformat": 4,
 "nbformat_minor": 2
}
