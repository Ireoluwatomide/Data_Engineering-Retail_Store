{
 "cells": [
  {
   "cell_type": "markdown",
   "metadata": {},
   "source": [
    "### Import the Libraries"
   ]
  },
  {
   "cell_type": "code",
   "execution_count": null,
   "metadata": {},
   "outputs": [],
   "source": [
    "import time\n",
    "import names #Allows for the generation random names\n",
    "import random # Allows for the generation random value\n",
    "import numpy as np\n",
    "import pandas as pd\n",
    "import pandasql as ps # Allows to run SQL statements\n",
    "from faker import Faker # Allows for the generation of fake data\n",
    "from datetime import datetime\n",
    "\n",
    "faker = Faker() "
   ]
  },
  {
   "cell_type": "code",
   "execution_count": null,
   "metadata": {},
   "outputs": [],
   "source": [
    "# Function to run SQL statements\n",
    "def sql(query):\n",
    "    return ps.sqldf(query)"
   ]
  },
  {
   "cell_type": "markdown",
   "metadata": {},
   "source": [
    "### 1. Generating Product Data"
   ]
  },
  {
   "cell_type": "code",
   "execution_count": null,
   "metadata": {},
   "outputs": [],
   "source": [
    "# Loading the CSV file into a dataframe\n",
    "products = pd.read_csv('./scrapped_data/whiskey_data.csv', index_col='Unnamed: 0')\n",
    "\n",
    "# Changing the Alcohol Price to float\n",
    "products['Alcohol_Price'] = products.Alcohol_Price.str.replace(',','').astype('float')\n",
    "\n",
    "products.head()"
   ]
  },
  {
   "cell_type": "code",
   "execution_count": null,
   "metadata": {},
   "outputs": [],
   "source": [
    "# Generate a column of unique product ids\n",
    "product_id = np.random.default_rng().choice(len(products.Product_Name), \n",
    "             len(products.Product_Name), replace = False)\n",
    "\n",
    "product_id"
   ]
  },
  {
   "cell_type": "code",
   "execution_count": null,
   "metadata": {},
   "outputs": [],
   "source": [
    "# Verify that the new ids are unique\n",
    "assert len(pd.Series(product_id).unique()) == len(product_id)"
   ]
  },
  {
   "cell_type": "code",
   "execution_count": null,
   "metadata": {},
   "outputs": [],
   "source": [
    "# Insert the new column into the dataframe\n",
    "products['Product_ID']= product_id\n",
    "\n",
    "# Reorder the columns\n",
    "#products = products[['Product_ID', 'Product_Name', 'Alcohol_Percent', 'Alcohol_Amount', 'Alcohol_Price']]\n",
    "\n",
    "column_names = ['Product_ID', 'Product_Name', 'Alcohol_Percent', 'Alcohol_Amount', 'Alcohol_Price']\n",
    "products = products.reindex(columns = column_names)\n",
    "\n",
    "products.head()"
   ]
  },
  {
   "cell_type": "markdown",
   "metadata": {},
   "source": [
    "### 2. Generating Employee Data"
   ]
  },
  {
   "cell_type": "code",
   "execution_count": null,
   "metadata": {},
   "outputs": [],
   "source": [
    "# Generating 100 Employee Unique id's\n",
    "employee_id = np.random.default_rng().choice(4000, 100, replace = False)\n",
    "\n",
    "# Verify that there are as many ids as there are employees\n",
    "assert len(set(employee_id)) == 100\n",
    "\n",
    "# Verify that the new ids are unique\n",
    "assert len(pd.Series(employee_id).unique()) == len(employee_id)"
   ]
  },
  {
   "cell_type": "code",
   "execution_count": null,
   "metadata": {},
   "outputs": [],
   "source": [
    "# Generating 100 Employee Data\n",
    "employee_first_name = []\n",
    "employee_last_name = []\n",
    "employee_full_name = []\n",
    "employee_email = []\n",
    "employee_city = []\n",
    "departments = ['Sales', 'Finance', 'Marketing', 'BI']\n",
    "employee_department = []\n",
    "\n",
    "# iterate through the employees and generate random data\n",
    "for i in range(len(employee_id)):\n",
    "    employee_first_name.append(names.get_first_name())\n",
    "    employee_last_name.append(names.get_last_name())\n",
    "    employee_full_name.append(employee_first_name[i] + ' ' + employee_last_name[i])\n",
    "    employee_email.append(employee_first_name[i] + employee_last_name[i][0].lower() + '@gmail.com')\n",
    "    employee_city.append(faker.city())\n",
    "    employee_department.append(np.random.choice(departments, 1)[0])"
   ]
  },
  {
   "cell_type": "code",
   "execution_count": null,
   "metadata": {},
   "outputs": [],
   "source": [
    "# Create an employee dataframe\n",
    "employees = pd.DataFrame(employee_id, columns = ['employee_id'])\n",
    "employees['first_name'] = employee_first_name\n",
    "employees['last_name'] = employee_last_name\n",
    "employees['full_name'] = employee_full_name\n",
    "employees['email'] = employee_email\n",
    "employees['city'] = employee_city\n",
    "employees['department'] = employee_department\n",
    "\n",
    "employees.head()"
   ]
  },
  {
   "cell_type": "markdown",
   "metadata": {},
   "source": [
    "### 3. Generating Customer Data"
   ]
  },
  {
   "cell_type": "code",
   "execution_count": null,
   "metadata": {},
   "outputs": [],
   "source": [
    "# Generating 1000 Customer Unique id's\n",
    "customer_id = np.random.default_rng().choice(999999, 1000, replace = False)\n",
    "\n",
    "# Verify that there are as many ids as there are customers\n",
    "assert len(set(customer_id)) == 1000\n",
    "\n",
    "# Verify that the new ids are unique\n",
    "assert len(pd.Series(customer_id).unique()) == len(customer_id)"
   ]
  },
  {
   "cell_type": "code",
   "execution_count": null,
   "metadata": {},
   "outputs": [],
   "source": [
    "# Generating 1000 Customers Data\n",
    "customer_first_name = []\n",
    "customer_last_name = []\n",
    "customer_full_name = []\n",
    "customer_email = []\n",
    "customer_last_four_digits = []\n",
    "customer_country = []\n",
    "customer_country_code = []\n",
    "customer_street = []\n",
    "customer_credit_card_company = []\n",
    "\n",
    "\n",
    "# iterate through the customers and generate random data\n",
    "for i in range(len(customer_id)): \n",
    "    customer_first_name.append(names.get_first_name())\n",
    "    customer_last_name.append(names.get_last_name())\n",
    "    customer_full_name.append(customer_first_name[i] + ' ' + customer_last_name[i])\n",
    "    customer_email.append(customer_first_name[i] + customer_last_name[i][0].lower() + '@gmail.com')\n",
    "    customer_last_four_digits.append(np.random.randint(low = 1000, high = 9999, size = 1)[0])\n",
    "    customer_country.append(faker.country())\n",
    "    customer_country_code.append(customer_country[i][0:3].upper())\n",
    "    customer_street.append(faker.street_address())\n",
    "    customer_credit_card_company.append(faker.credit_card_provider())"
   ]
  },
  {
   "cell_type": "code",
   "execution_count": null,
   "metadata": {},
   "outputs": [],
   "source": [
    "# Create a customer dataframe\n",
    "customers = pd.DataFrame(customer_id, columns = ['customer_id'])\n",
    "customers['first_name'] = customer_first_name\n",
    "customers['last_name'] = customer_last_name\n",
    "customers['full_name'] = customer_full_name\n",
    "customers['email'] = customer_email\n",
    "customers['country'] = customer_country\n",
    "customers['country_code'] = customer_country_code\n",
    "customers['street'] = customer_street\n",
    "customers['credit_provider'] = customer_credit_card_company\n",
    "customers['four_digits'] = customer_last_four_digits\n",
    "\n",
    "customers.head()"
   ]
  },
  {
   "cell_type": "markdown",
   "metadata": {},
   "source": [
    "### 4. Generating Payments Data"
   ]
  },
  {
   "cell_type": "code",
   "execution_count": null,
   "metadata": {},
   "outputs": [],
   "source": [
    "# Generating random days in the range of 1990 to 2020\n",
    "date_range = pd.date_range(start = \"1990-01-01\", end = \"2021-12-31\", freq=\"D\",)\n",
    "\n",
    "date_range"
   ]
  },
  {
   "cell_type": "code",
   "execution_count": null,
   "metadata": {},
   "outputs": [],
   "source": [
    "# Generating Unique payment id's\n",
    "payment_id = np.random.default_rng().choice(999999, len(date_range), replace = False)\n",
    "\n",
    "# Verify that there are as many ids as there are dates\n",
    "assert len(set(payment_id)) == len(date_range)\n",
    "\n",
    "# Verify that the new ids are unique\n",
    "assert len(pd.Series(payment_id).unique()) == len(payment_id)"
   ]
  },
  {
   "cell_type": "code",
   "execution_count": null,
   "metadata": {},
   "outputs": [],
   "source": [
    "# Generating payments Data\n",
    "customer_id_payments = []\n",
    "employee_id_payments = []\n",
    "product_id_payments = []\n",
    "dates = []\n",
    "\n",
    "\n",
    "# iterate through the payments and generate random data\n",
    "for i in range(len(payment_id)):\n",
    "    dates.append(datetime.strftime(random.choice(date_range), format='%Y-%m-%d'))\n",
    "    customer_id_payments.append(random.choice(customer_id))\n",
    "    employee_id_payments.append(random.choice(employee_id))\n",
    "    product_id_payments.append(random.choice(product_id))"
   ]
  },
  {
   "cell_type": "code",
   "execution_count": null,
   "metadata": {},
   "outputs": [],
   "source": [
    "# Create a payments dataframe\n",
    "payments = pd.DataFrame(payment_id, columns = ['payment_id'])\n",
    "payments['date'] = sorted(dates)\n",
    "payments['customer_id'] = customer_id_payments\n",
    "payments['employee_id'] = employee_id_payments\n",
    "payments['product_id'] = product_id_payments\n",
    "\n",
    "payments.head()"
   ]
  },
  {
   "cell_type": "code",
   "execution_count": null,
   "metadata": {},
   "outputs": [],
   "source": [
    "# Adding the Alcohol_price column to the table\n",
    "\n",
    "# Query to excute\n",
    "query = '''\n",
    "select p1.*, p2.Alcohol_Price as price\n",
    "from payments p1\n",
    "inner join products p2\n",
    "on p1.product_id = p2.product_id\n",
    "'''\n",
    "\n",
    "# Execute query\n",
    "payments = sql(query)\n",
    "\n",
    "payments.head()"
   ]
  },
  {
   "cell_type": "markdown",
   "metadata": {},
   "source": [
    "### 5. Save the database as .CSV"
   ]
  },
  {
   "cell_type": "code",
   "execution_count": null,
   "metadata": {},
   "outputs": [],
   "source": [
    "products.to_csv('./database/products' + '.csv')\n",
    "employees.to_csv('./database/employees' + '.csv')\n",
    "customers.to_csv('./database/customers' + '.csv')\n",
    "payments.to_csv('./database/payments' + '.csv')"
   ]
  }
 ],
 "metadata": {
  "interpreter": {
   "hash": "4c97a8af8ce9e38be4f005c9902d9a12d9f9cbf134d313a0472dadc3694cae66"
  },
  "kernelspec": {
   "display_name": "Python 3.9.7 ('base')",
   "language": "python",
   "name": "python3"
  },
  "language_info": {
   "codemirror_mode": {
    "name": "ipython",
    "version": 3
   },
   "file_extension": ".py",
   "mimetype": "text/x-python",
   "name": "python",
   "nbconvert_exporter": "python",
   "pygments_lexer": "ipython3",
   "version": "3.9.7"
  }
 },
 "nbformat": 4,
 "nbformat_minor": 2
}
